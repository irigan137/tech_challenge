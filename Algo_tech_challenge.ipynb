{
 "cells": [
  {
   "cell_type": "markdown",
   "id": "5768d976",
   "metadata": {},
   "source": [
    "# Описание задачи\n",
    "\n",
    "Задача: выявить регионы мира, в которых Алго лучше всего начинает работу. \n",
    "\n",
    "Период начала работы посмотрим для 1 и 3 месяцев.\n",
    "\"Лучше всего\" определим как регионы с наибольшим средним количеством уникальных студентов и наибольшим средним количеством проведенных уроков.\n",
    "\n",
    "Датасет был выгружен в .csv из googlesheets. В рамках задачи создадим pandas датасет, распределим страны по регионам мира и визуализируем регионы по убыванию выбранных метрик."
   ]
  },
  {
   "cell_type": "code",
   "execution_count": 1,
   "id": "7718a527",
   "metadata": {},
   "outputs": [],
   "source": [
    "# импорт библиотек\n",
    "\n",
    "import pandas as pd\n",
    "import matplotlib.pyplot as plt\n",
    "import seaborn as sns"
   ]
  },
  {
   "cell_type": "code",
   "execution_count": 2,
   "id": "b869ff0e",
   "metadata": {
    "scrolled": true
   },
   "outputs": [
    {
     "data": {
      "text/html": [
       "<div>\n",
       "<style scoped>\n",
       "    .dataframe tbody tr th:only-of-type {\n",
       "        vertical-align: middle;\n",
       "    }\n",
       "\n",
       "    .dataframe tbody tr th {\n",
       "        vertical-align: top;\n",
       "    }\n",
       "\n",
       "    .dataframe thead th {\n",
       "        text-align: right;\n",
       "    }\n",
       "</style>\n",
       "<table border=\"1\" class=\"dataframe\">\n",
       "  <thead>\n",
       "    <tr style=\"text-align: right;\">\n",
       "      <th></th>\n",
       "      <th>Month</th>\n",
       "      <th>Country</th>\n",
       "      <th>Unique students</th>\n",
       "      <th>Lessons</th>\n",
       "    </tr>\n",
       "  </thead>\n",
       "  <tbody>\n",
       "    <tr>\n",
       "      <th>0</th>\n",
       "      <td>01.01.2022</td>\n",
       "      <td>Albania</td>\n",
       "      <td>28</td>\n",
       "      <td>149</td>\n",
       "    </tr>\n",
       "    <tr>\n",
       "      <th>1</th>\n",
       "      <td>01.02.2022</td>\n",
       "      <td>Albania</td>\n",
       "      <td>36</td>\n",
       "      <td>161</td>\n",
       "    </tr>\n",
       "    <tr>\n",
       "      <th>2</th>\n",
       "      <td>01.03.2022</td>\n",
       "      <td>Albania</td>\n",
       "      <td>24</td>\n",
       "      <td>158</td>\n",
       "    </tr>\n",
       "    <tr>\n",
       "      <th>3</th>\n",
       "      <td>01.04.2022</td>\n",
       "      <td>Albania</td>\n",
       "      <td>16</td>\n",
       "      <td>88</td>\n",
       "    </tr>\n",
       "    <tr>\n",
       "      <th>4</th>\n",
       "      <td>01.05.2022</td>\n",
       "      <td>Albania</td>\n",
       "      <td>26</td>\n",
       "      <td>90</td>\n",
       "    </tr>\n",
       "  </tbody>\n",
       "</table>\n",
       "</div>"
      ],
      "text/plain": [
       "        Month  Country  Unique students  Lessons\n",
       "0  01.01.2022  Albania               28      149\n",
       "1  01.02.2022  Albania               36      161\n",
       "2  01.03.2022  Albania               24      158\n",
       "3  01.04.2022  Albania               16       88\n",
       "4  01.05.2022  Albania               26       90"
      ]
     },
     "execution_count": 2,
     "metadata": {},
     "output_type": "execute_result"
    }
   ],
   "source": [
    "# создание датафрейма\n",
    "\n",
    "df = pd.read_csv('partners.csv')\n",
    "df.head()"
   ]
  },
  {
   "cell_type": "code",
   "execution_count": 3,
   "id": "12d7370b",
   "metadata": {
    "scrolled": true
   },
   "outputs": [
    {
     "data": {
      "text/html": [
       "<div>\n",
       "<style scoped>\n",
       "    .dataframe tbody tr th:only-of-type {\n",
       "        vertical-align: middle;\n",
       "    }\n",
       "\n",
       "    .dataframe tbody tr th {\n",
       "        vertical-align: top;\n",
       "    }\n",
       "\n",
       "    .dataframe thead th {\n",
       "        text-align: right;\n",
       "    }\n",
       "</style>\n",
       "<table border=\"1\" class=\"dataframe\">\n",
       "  <thead>\n",
       "    <tr style=\"text-align: right;\">\n",
       "      <th></th>\n",
       "      <th>month</th>\n",
       "      <th>country</th>\n",
       "      <th>unique_students</th>\n",
       "      <th>lessons</th>\n",
       "    </tr>\n",
       "  </thead>\n",
       "  <tbody>\n",
       "    <tr>\n",
       "      <th>0</th>\n",
       "      <td>01.01.2022</td>\n",
       "      <td>Albania</td>\n",
       "      <td>28</td>\n",
       "      <td>149</td>\n",
       "    </tr>\n",
       "    <tr>\n",
       "      <th>1</th>\n",
       "      <td>01.02.2022</td>\n",
       "      <td>Albania</td>\n",
       "      <td>36</td>\n",
       "      <td>161</td>\n",
       "    </tr>\n",
       "    <tr>\n",
       "      <th>2</th>\n",
       "      <td>01.03.2022</td>\n",
       "      <td>Albania</td>\n",
       "      <td>24</td>\n",
       "      <td>158</td>\n",
       "    </tr>\n",
       "    <tr>\n",
       "      <th>3</th>\n",
       "      <td>01.04.2022</td>\n",
       "      <td>Albania</td>\n",
       "      <td>16</td>\n",
       "      <td>88</td>\n",
       "    </tr>\n",
       "    <tr>\n",
       "      <th>4</th>\n",
       "      <td>01.05.2022</td>\n",
       "      <td>Albania</td>\n",
       "      <td>26</td>\n",
       "      <td>90</td>\n",
       "    </tr>\n",
       "  </tbody>\n",
       "</table>\n",
       "</div>"
      ],
      "text/plain": [
       "        month  country  unique_students  lessons\n",
       "0  01.01.2022  Albania               28      149\n",
       "1  01.02.2022  Albania               36      161\n",
       "2  01.03.2022  Albania               24      158\n",
       "3  01.04.2022  Albania               16       88\n",
       "4  01.05.2022  Albania               26       90"
      ]
     },
     "execution_count": 3,
     "metadata": {},
     "output_type": "execute_result"
    }
   ],
   "source": [
    "# приведение столбцов к единому виду\n",
    "\n",
    "df.columns = df.columns.str.lower()\n",
    "df = df.rename(columns={'unique students':'unique_students'})\n",
    "df.head()"
   ]
  },
  {
   "cell_type": "code",
   "execution_count": 21,
   "id": "012e8ce8",
   "metadata": {
    "scrolled": true
   },
   "outputs": [
    {
     "name": "stdout",
     "output_type": "stream",
     "text": [
      "<class 'pandas.core.frame.DataFrame'>\n",
      "Int64Index: 957 entries, 0 to 956\n",
      "Data columns (total 5 columns):\n",
      " #   Column           Non-Null Count  Dtype         \n",
      "---  ------           --------------  -----         \n",
      " 0   month            957 non-null    datetime64[ns]\n",
      " 1   country          957 non-null    object        \n",
      " 2   unique_students  957 non-null    int64         \n",
      " 3   lessons          957 non-null    int64         \n",
      " 4   region           957 non-null    object        \n",
      "dtypes: datetime64[ns](1), int64(2), object(2)\n",
      "memory usage: 44.9+ KB\n"
     ]
    }
   ],
   "source": [
    "# информация о датасете\n",
    "\n",
    "df.info()"
   ]
  },
  {
   "cell_type": "code",
   "execution_count": 5,
   "id": "6c65780d",
   "metadata": {},
   "outputs": [],
   "source": [
    "# приведение даты к нужному виду\n",
    "\n",
    "df['month'] = pd.to_datetime(df['month'])"
   ]
  },
  {
   "cell_type": "code",
   "execution_count": 6,
   "id": "9d15894c",
   "metadata": {
    "scrolled": true
   },
   "outputs": [
    {
     "data": {
      "text/plain": [
       "array(['Albania', 'Argentina', 'Australia', 'Bahrain', 'Bolivia',\n",
       "       'Bulgaria', 'Cambodia', 'Cameroon', 'Canada', 'Chile', 'Colombia',\n",
       "       'Costa Rica', 'Croatia', 'Ecuador', 'El Salvador', 'Estonia',\n",
       "       'France', 'Germany', 'Guatemala', 'Honduras', 'Hungary', 'India',\n",
       "       'Ireland', 'Italy', 'Jamaica', 'Jordan', 'Kenya', 'Kosovo',\n",
       "       'Kuwait', 'Lithuania', 'Luxembourg', 'Malaysia', 'Maldives',\n",
       "       'Mauritius', 'Mongolia', 'Montenegro', 'Morocco', 'Myanmar',\n",
       "       'Nicaragua', 'Nigeria', 'Norway', 'Panama', 'Papua New Guinea',\n",
       "       'Peru', 'Philippines', 'Portugal', 'Puerto Rico', 'Serbia',\n",
       "       'Singapore', 'South\\xa0Africa', 'South Africa', 'Spain',\n",
       "       'Sri Lanka', 'Switzerland', 'Tajikistan', 'Turkey',\n",
       "       'United Arab Emirates', 'United Kingdom', 'USA', 'Venezuela',\n",
       "       'Zambia'], dtype=object)"
      ]
     },
     "execution_count": 6,
     "metadata": {},
     "output_type": "execute_result"
    }
   ],
   "source": [
    "# список уникальных стран\n",
    "\n",
    "df['country'].unique()"
   ]
  },
  {
   "cell_type": "code",
   "execution_count": 7,
   "id": "d8b6a182",
   "metadata": {},
   "outputs": [
    {
     "data": {
      "text/plain": [
       "array(['Albania', 'Argentina', 'Australia', 'Bahrain', 'Bolivia',\n",
       "       'Bulgaria', 'Cambodia', 'Cameroon', 'Canada', 'Chile', 'Colombia',\n",
       "       'Costa Rica', 'Croatia', 'Ecuador', 'El Salvador', 'Estonia',\n",
       "       'France', 'Germany', 'Guatemala', 'Honduras', 'Hungary', 'India',\n",
       "       'Ireland', 'Italy', 'Jamaica', 'Jordan', 'Kenya', 'Kosovo',\n",
       "       'Kuwait', 'Lithuania', 'Luxembourg', 'Malaysia', 'Maldives',\n",
       "       'Mauritius', 'Mongolia', 'Montenegro', 'Morocco', 'Myanmar',\n",
       "       'Nicaragua', 'Nigeria', 'Norway', 'Panama', 'Papua New Guinea',\n",
       "       'Peru', 'Philippines', 'Portugal', 'Puerto Rico', 'Serbia',\n",
       "       'Singapore', 'South Africa', 'Spain', 'Sri Lanka', 'Switzerland',\n",
       "       'Tajikistan', 'Turkey', 'United Arab Emirates', 'United Kingdom',\n",
       "       'USA', 'Venezuela', 'Zambia'], dtype=object)"
      ]
     },
     "execution_count": 7,
     "metadata": {},
     "output_type": "execute_result"
    }
   ],
   "source": [
    "# правим название South Africa и проверяем\n",
    "\n",
    "df['country'] = df['country'].replace({'South\\xa0Africa': 'South Africa'})\n",
    "df['country'].unique()"
   ]
  },
  {
   "cell_type": "code",
   "execution_count": 8,
   "id": "85c8e01d",
   "metadata": {},
   "outputs": [],
   "source": [
    "# словарь, в котором соотносим страны с регионами мира\n",
    "\n",
    "region_mapping = {\n",
    "    'Albania': 'Europe', 'Argentina': 'South America', 'Armenia': 'Asia', 'Australia': 'Oceania', \n",
    "    'Austria': 'Europe', 'Azerbaijan': 'Asia', 'Bahrain': 'Middle East', 'Bangladesh': 'Asia', \n",
    "    'Belarus': 'Europe', 'Belgium': 'Europe', 'Bolivia': 'South America', 'Bulgaria': 'Europe', \n",
    "    'Cambodia': 'Asia', 'Cameroon': 'Africa', 'Canada': 'North America', 'Chile': 'South America', \n",
    "    'Colombia': 'South America', 'Costa Rica': 'Central America', 'Croatia': 'Europe', \n",
    "    'Ecuador': 'South America', 'El Salvador': 'Central America', 'Estonia': 'Europe', \n",
    "    'France': 'Europe', 'Germany': 'Europe', 'Guatemala': 'Central America', 'Honduras': 'Central America', \n",
    "    'Hungary': 'Europe', 'India': 'Asia', 'Ireland': 'Europe', 'Italy': 'Europe', 'Jamaica': 'North America', \n",
    "    'Jordan': 'Middle East', 'Kenya': 'Africa', 'Kosovo': 'Europe', 'Kuwait': 'Middle East', \n",
    "    'Lithuania': 'Europe', 'Luxembourg': 'Europe', 'Malaysia': 'Asia', 'Maldives': 'Asia', \n",
    "    'Mauritius': 'Africa', 'Mongolia': 'Asia', 'Montenegro': 'Europe', 'Morocco': 'Africa', \n",
    "    'Myanmar': 'Asia', 'Nicaragua': 'Central America', 'Nigeria': 'Africa', 'Norway': 'Europe', \n",
    "    'Panama': 'Central America', 'Papua New Guinea': 'Oceania', 'Peru': 'South America', \n",
    "    'Philippines': 'Asia', 'Portugal': 'Europe', 'Puerto Rico': 'North America', 'Serbia': 'Europe', \n",
    "    'Singapore': 'Asia', 'South Africa': 'Africa', 'Spain': 'Europe', 'Sri Lanka': 'Asia', \n",
    "    'Switzerland': 'Europe', 'Tajikistan': 'Asia', 'Turkey': 'Europe', 'United Arab Emirates': 'Middle East', \n",
    "    'United Kingdom': 'Europe', 'USA': 'North America', 'Venezuela': 'South America', 'Zambia': 'Africa'\n",
    "}"
   ]
  },
  {
   "cell_type": "code",
   "execution_count": 9,
   "id": "c94efac7",
   "metadata": {},
   "outputs": [
    {
     "data": {
      "text/plain": [
       "0      Europe\n",
       "1      Europe\n",
       "2      Europe\n",
       "3      Europe\n",
       "4      Europe\n",
       "        ...  \n",
       "952    Africa\n",
       "953    Africa\n",
       "954    Africa\n",
       "955    Africa\n",
       "956    Africa\n",
       "Name: region, Length: 957, dtype: object"
      ]
     },
     "execution_count": 9,
     "metadata": {},
     "output_type": "execute_result"
    }
   ],
   "source": [
    "# применяем к столбцу со странами\n",
    "\n",
    "df['region'] = df['country'].map(region_mapping)\n",
    "df['region']"
   ]
  },
  {
   "cell_type": "code",
   "execution_count": 10,
   "id": "1f05e6d7",
   "metadata": {},
   "outputs": [],
   "source": [
    "# сортируем по стране и месяцу\n",
    "\n",
    "df = df.sort_values(by=['country', 'month'])"
   ]
  },
  {
   "cell_type": "code",
   "execution_count": 11,
   "id": "073cb882",
   "metadata": {},
   "outputs": [
    {
     "data": {
      "text/html": [
       "<div>\n",
       "<style scoped>\n",
       "    .dataframe tbody tr th:only-of-type {\n",
       "        vertical-align: middle;\n",
       "    }\n",
       "\n",
       "    .dataframe tbody tr th {\n",
       "        vertical-align: top;\n",
       "    }\n",
       "\n",
       "    .dataframe thead th {\n",
       "        text-align: right;\n",
       "    }\n",
       "</style>\n",
       "<table border=\"1\" class=\"dataframe\">\n",
       "  <thead>\n",
       "    <tr style=\"text-align: right;\">\n",
       "      <th></th>\n",
       "      <th>month</th>\n",
       "      <th>country</th>\n",
       "      <th>unique_students</th>\n",
       "      <th>lessons</th>\n",
       "      <th>region</th>\n",
       "    </tr>\n",
       "  </thead>\n",
       "  <tbody>\n",
       "    <tr>\n",
       "      <th>0</th>\n",
       "      <td>2022-01-01</td>\n",
       "      <td>Albania</td>\n",
       "      <td>28</td>\n",
       "      <td>149</td>\n",
       "      <td>Europe</td>\n",
       "    </tr>\n",
       "    <tr>\n",
       "      <th>1</th>\n",
       "      <td>2022-01-02</td>\n",
       "      <td>Albania</td>\n",
       "      <td>36</td>\n",
       "      <td>161</td>\n",
       "      <td>Europe</td>\n",
       "    </tr>\n",
       "    <tr>\n",
       "      <th>2</th>\n",
       "      <td>2022-01-03</td>\n",
       "      <td>Albania</td>\n",
       "      <td>24</td>\n",
       "      <td>158</td>\n",
       "      <td>Europe</td>\n",
       "    </tr>\n",
       "    <tr>\n",
       "      <th>24</th>\n",
       "      <td>2023-01-08</td>\n",
       "      <td>Argentina</td>\n",
       "      <td>2</td>\n",
       "      <td>4</td>\n",
       "      <td>South America</td>\n",
       "    </tr>\n",
       "    <tr>\n",
       "      <th>25</th>\n",
       "      <td>2023-01-09</td>\n",
       "      <td>Argentina</td>\n",
       "      <td>3</td>\n",
       "      <td>15</td>\n",
       "      <td>South America</td>\n",
       "    </tr>\n",
       "    <tr>\n",
       "      <th>...</th>\n",
       "      <td>...</td>\n",
       "      <td>...</td>\n",
       "      <td>...</td>\n",
       "      <td>...</td>\n",
       "      <td>...</td>\n",
       "    </tr>\n",
       "    <tr>\n",
       "      <th>925</th>\n",
       "      <td>2023-01-05</td>\n",
       "      <td>Venezuela</td>\n",
       "      <td>44</td>\n",
       "      <td>154</td>\n",
       "      <td>South America</td>\n",
       "    </tr>\n",
       "    <tr>\n",
       "      <th>926</th>\n",
       "      <td>2023-01-06</td>\n",
       "      <td>Venezuela</td>\n",
       "      <td>25</td>\n",
       "      <td>72</td>\n",
       "      <td>South America</td>\n",
       "    </tr>\n",
       "    <tr>\n",
       "      <th>933</th>\n",
       "      <td>2022-01-01</td>\n",
       "      <td>Zambia</td>\n",
       "      <td>14</td>\n",
       "      <td>28</td>\n",
       "      <td>Africa</td>\n",
       "    </tr>\n",
       "    <tr>\n",
       "      <th>934</th>\n",
       "      <td>2022-01-02</td>\n",
       "      <td>Zambia</td>\n",
       "      <td>22</td>\n",
       "      <td>99</td>\n",
       "      <td>Africa</td>\n",
       "    </tr>\n",
       "    <tr>\n",
       "      <th>935</th>\n",
       "      <td>2022-01-03</td>\n",
       "      <td>Zambia</td>\n",
       "      <td>35</td>\n",
       "      <td>139</td>\n",
       "      <td>Africa</td>\n",
       "    </tr>\n",
       "  </tbody>\n",
       "</table>\n",
       "<p>177 rows × 5 columns</p>\n",
       "</div>"
      ],
      "text/plain": [
       "         month    country  unique_students  lessons         region\n",
       "0   2022-01-01    Albania               28      149         Europe\n",
       "1   2022-01-02    Albania               36      161         Europe\n",
       "2   2022-01-03    Albania               24      158         Europe\n",
       "24  2023-01-08  Argentina                2        4  South America\n",
       "25  2023-01-09  Argentina                3       15  South America\n",
       "..         ...        ...              ...      ...            ...\n",
       "925 2023-01-05  Venezuela               44      154  South America\n",
       "926 2023-01-06  Venezuela               25       72  South America\n",
       "933 2022-01-01     Zambia               14       28         Africa\n",
       "934 2022-01-02     Zambia               22       99         Africa\n",
       "935 2022-01-03     Zambia               35      139         Africa\n",
       "\n",
       "[177 rows x 5 columns]"
      ]
     },
     "execution_count": 11,
     "metadata": {},
     "output_type": "execute_result"
    }
   ],
   "source": [
    "# выделяем страны на периоде 3 мес\n",
    "\n",
    "period_3_months = df.groupby('country').head(3)\n",
    "period_3_months"
   ]
  },
  {
   "cell_type": "code",
   "execution_count": 13,
   "id": "3ccd7789",
   "metadata": {
    "scrolled": true
   },
   "outputs": [
    {
     "data": {
      "text/html": [
       "<div>\n",
       "<style scoped>\n",
       "    .dataframe tbody tr th:only-of-type {\n",
       "        vertical-align: middle;\n",
       "    }\n",
       "\n",
       "    .dataframe tbody tr th {\n",
       "        vertical-align: top;\n",
       "    }\n",
       "\n",
       "    .dataframe thead th {\n",
       "        text-align: right;\n",
       "    }\n",
       "</style>\n",
       "<table border=\"1\" class=\"dataframe\">\n",
       "  <thead>\n",
       "    <tr style=\"text-align: right;\">\n",
       "      <th></th>\n",
       "      <th>region</th>\n",
       "      <th>unique_students</th>\n",
       "      <th>lessons</th>\n",
       "    </tr>\n",
       "  </thead>\n",
       "  <tbody>\n",
       "    <tr>\n",
       "      <th>2</th>\n",
       "      <td>Central America</td>\n",
       "      <td>86.50</td>\n",
       "      <td>248.17</td>\n",
       "    </tr>\n",
       "    <tr>\n",
       "      <th>1</th>\n",
       "      <td>Asia</td>\n",
       "      <td>62.47</td>\n",
       "      <td>225.73</td>\n",
       "    </tr>\n",
       "    <tr>\n",
       "      <th>3</th>\n",
       "      <td>Europe</td>\n",
       "      <td>59.43</td>\n",
       "      <td>194.83</td>\n",
       "    </tr>\n",
       "    <tr>\n",
       "      <th>4</th>\n",
       "      <td>Middle East</td>\n",
       "      <td>36.00</td>\n",
       "      <td>165.50</td>\n",
       "    </tr>\n",
       "    <tr>\n",
       "      <th>5</th>\n",
       "      <td>North America</td>\n",
       "      <td>35.70</td>\n",
       "      <td>113.10</td>\n",
       "    </tr>\n",
       "    <tr>\n",
       "      <th>0</th>\n",
       "      <td>Africa</td>\n",
       "      <td>31.67</td>\n",
       "      <td>80.00</td>\n",
       "    </tr>\n",
       "    <tr>\n",
       "      <th>7</th>\n",
       "      <td>South America</td>\n",
       "      <td>23.80</td>\n",
       "      <td>72.50</td>\n",
       "    </tr>\n",
       "    <tr>\n",
       "      <th>6</th>\n",
       "      <td>Oceania</td>\n",
       "      <td>21.00</td>\n",
       "      <td>109.00</td>\n",
       "    </tr>\n",
       "  </tbody>\n",
       "</table>\n",
       "</div>"
      ],
      "text/plain": [
       "            region  unique_students  lessons\n",
       "2  Central America            86.50   248.17\n",
       "1             Asia            62.47   225.73\n",
       "3           Europe            59.43   194.83\n",
       "4      Middle East            36.00   165.50\n",
       "5    North America            35.70   113.10\n",
       "0           Africa            31.67    80.00\n",
       "7    South America            23.80    72.50\n",
       "6          Oceania            21.00   109.00"
      ]
     },
     "execution_count": 13,
     "metadata": {},
     "output_type": "execute_result"
    }
   ],
   "source": [
    "# выделяем регионы на периоде 3 мес\n",
    "\n",
    "regions_3_months = (\n",
    "    period_3_months.groupby('region')[['unique_students', 'lessons']]\n",
    "    .agg('mean')\n",
    "    .round(2)\n",
    "    .reset_index()\n",
    "    .sort_values(by=['unique_students', 'lessons'], ascending=False)\n",
    ")\n",
    "\n",
    "regions_3_months"
   ]
  },
  {
   "cell_type": "code",
   "execution_count": 14,
   "id": "0a4bfe04",
   "metadata": {},
   "outputs": [
    {
     "data": {
      "image/png": "[encoded data removed]",
      "text/plain": [
       "<Figure size 1008x576 with 1 Axes>"
      ]
     },
     "metadata": {
      "needs_background": "light"
     },
     "output_type": "display_data"
    }
   ],
   "source": [
    "# подготовка таблицы для визуализации\n",
    "melted_regions_3m = regions_3_months.melt(id_vars='region', var_name='metric', value_name='average')\n",
    "\n",
    "# регионы мира с лучшим перформансом на периоде 3 мес\n",
    "plt.figure(figsize=(14, 8))\n",
    "\n",
    "sns.barplot(x='region', y='average', hue='metric', data=melted_regions_3m)\n",
    "plt.xlabel('Регион мира')\n",
    "plt.ylabel('Количество')\n",
    "plt.title('Среднее кол-во уникальных студентов и уроков по регионам, 3мес.')\n",
    "plt.tight_layout()\n",
    "plt.show()"
   ]
  },
  {
   "cell_type": "code",
   "execution_count": 16,
   "id": "ca501ff5",
   "metadata": {},
   "outputs": [],
   "source": [
    "# выделяем страны на периоде 1 мес\n",
    "\n",
    "period_1_month = df.groupby('country').head(1)"
   ]
  },
  {
   "cell_type": "code",
   "execution_count": 19,
   "id": "4587611c",
   "metadata": {},
   "outputs": [
    {
     "data": {
      "text/html": [
       "<div>\n",
       "<style scoped>\n",
       "    .dataframe tbody tr th:only-of-type {\n",
       "        vertical-align: middle;\n",
       "    }\n",
       "\n",
       "    .dataframe tbody tr th {\n",
       "        vertical-align: top;\n",
       "    }\n",
       "\n",
       "    .dataframe thead th {\n",
       "        text-align: right;\n",
       "    }\n",
       "</style>\n",
       "<table border=\"1\" class=\"dataframe\">\n",
       "  <thead>\n",
       "    <tr style=\"text-align: right;\">\n",
       "      <th></th>\n",
       "      <th>region</th>\n",
       "      <th>unique_students</th>\n",
       "      <th>lessons</th>\n",
       "    </tr>\n",
       "  </thead>\n",
       "  <tbody>\n",
       "    <tr>\n",
       "      <th>2</th>\n",
       "      <td>Central America</td>\n",
       "      <td>73.5</td>\n",
       "      <td>198.5</td>\n",
       "    </tr>\n",
       "    <tr>\n",
       "      <th>1</th>\n",
       "      <td>Asia</td>\n",
       "      <td>42.5</td>\n",
       "      <td>114.5</td>\n",
       "    </tr>\n",
       "    <tr>\n",
       "      <th>3</th>\n",
       "      <td>Europe</td>\n",
       "      <td>38.5</td>\n",
       "      <td>76.0</td>\n",
       "    </tr>\n",
       "    <tr>\n",
       "      <th>4</th>\n",
       "      <td>Middle East</td>\n",
       "      <td>24.0</td>\n",
       "      <td>130.0</td>\n",
       "    </tr>\n",
       "    <tr>\n",
       "      <th>5</th>\n",
       "      <td>North America</td>\n",
       "      <td>18.5</td>\n",
       "      <td>63.5</td>\n",
       "    </tr>\n",
       "    <tr>\n",
       "      <th>0</th>\n",
       "      <td>Africa</td>\n",
       "      <td>18.0</td>\n",
       "      <td>28.0</td>\n",
       "    </tr>\n",
       "    <tr>\n",
       "      <th>6</th>\n",
       "      <td>Oceania</td>\n",
       "      <td>16.5</td>\n",
       "      <td>89.5</td>\n",
       "    </tr>\n",
       "    <tr>\n",
       "      <th>7</th>\n",
       "      <td>South America</td>\n",
       "      <td>11.0</td>\n",
       "      <td>68.0</td>\n",
       "    </tr>\n",
       "  </tbody>\n",
       "</table>\n",
       "</div>"
      ],
      "text/plain": [
       "            region  unique_students  lessons\n",
       "2  Central America             73.5    198.5\n",
       "1             Asia             42.5    114.5\n",
       "3           Europe             38.5     76.0\n",
       "4      Middle East             24.0    130.0\n",
       "5    North America             18.5     63.5\n",
       "0           Africa             18.0     28.0\n",
       "6          Oceania             16.5     89.5\n",
       "7    South America             11.0     68.0"
      ]
     },
     "execution_count": 19,
     "metadata": {},
     "output_type": "execute_result"
    }
   ],
   "source": [
    "# выделяем регионы на периоде 1 мес\n",
    "\n",
    "regions_1_month = (\n",
    "    period_1_month.groupby('region')[['unique_students', 'lessons']]\n",
    "    .agg('median')\n",
    "    .round(2)\n",
    "    .reset_index()\n",
    "    .sort_values(by=['unique_students', 'lessons'], ascending=False)\n",
    ")\n",
    "\n",
    "regions_1_month"
   ]
  },
  {
   "cell_type": "code",
   "execution_count": 20,
   "id": "992aa9fc",
   "metadata": {},
   "outputs": [
    {
     "data": {
      "image/png": "[encoded data removed]",
      "text/plain": [
       "<Figure size 1008x576 with 1 Axes>"
      ]
     },
     "metadata": {
      "needs_background": "light"
     },
     "output_type": "display_data"
    }
   ],
   "source": [
    "# визуализируем регионы на периоде 1 мес\n",
    "\n",
    "melted_regions_1m = regions_1_month.melt(id_vars='region', var_name='metric', value_name='average')\n",
    "\n",
    "plt.figure(figsize=(14, 8))\n",
    "\n",
    "sns.barplot(x='region', y='average', hue='metric', data=melted_regions_1m)\n",
    "plt.xlabel('Регион мира')\n",
    "plt.ylabel('Количество')\n",
    "plt.title('Среднее кол-во уникальных студентов и уроков по регионам, 1мес.')\n",
    "plt.tight_layout()\n",
    "plt.show()"
   ]
  },
  {
   "cell_type": "markdown",
   "id": "b6af1239",
   "metadata": {},
   "source": [
    "# Вывод: \n",
    "\n",
    "Видим,что для обоих рассмотренных периодов Топ-3 регионов одинаковый:\n",
    "\n",
    "1 - Центральная Америка\n",
    "\n",
    "2 - Азия\n",
    "\n",
    "3 - Европа"
   ]
  },
  {
   "cell_type": "code",
   "execution_count": null,
   "id": "732a5473",
   "metadata": {},
   "outputs": [],
   "source": []
  }
 ],
 "metadata": {
  "kernelspec": {
   "display_name": "Python 3 (ipykernel)",
   "language": "python",
   "name": "python3"
  },
  "language_info": {
   "codemirror_mode": {
    "name": "ipython",
    "version": 3
   },
   "file_extension": ".py",
   "mimetype": "text/x-python",
   "name": "python",
   "nbconvert_exporter": "python",
   "pygments_lexer": "ipython3",
   "version": "3.9.12"
  },
  "toc": {
   "base_numbering": 1,
   "nav_menu": {},
   "number_sections": true,
   "sideBar": true,
   "skip_h1_title": false,
   "title_cell": "Table of Contents",
   "title_sidebar": "Contents",
   "toc_cell": false,
   "toc_position": {},
   "toc_section_display": true,
   "toc_window_display": false
  }
 },
 "nbformat": 4,
 "nbformat_minor": 5
}
